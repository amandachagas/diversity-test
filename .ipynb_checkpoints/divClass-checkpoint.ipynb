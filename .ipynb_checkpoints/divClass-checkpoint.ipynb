{
 "cells": [
  {
   "cell_type": "code",
   "execution_count": 2,
   "metadata": {},
   "outputs": [],
   "source": [
    "import pandas as pd\n",
    "from sklearn.feature_extraction.text import TfidfVectorizer\n",
    "from sklearn.metrics.pairwise import linear_kernel, cosine_similarity"
   ]
  },
  {
   "cell_type": "code",
   "execution_count": 30,
   "metadata": {},
   "outputs": [],
   "source": [
    "class DivClass():\n",
    "    def __init__(self, movie_data=''):\n",
    "        if movie_data:\n",
    "            self.metadata = pd.read_csv(movie_data, low_memory=False)\n",
    "            \n",
    "            self.metadata['year'] = self.metadata['title'].apply(lambda x: x[-5:-1])\n",
    "            self.metadata['title'] = self.metadata['title'].apply(lambda x: x[:-7])\n",
    "            self.metadata['genres'] = self.metadata['genres'].apply(lambda x: x.replace('|',', '))\n",
    "            \n",
    "            movie_ids = self.metadata['movieId'].unique()\n",
    "            self.metadata = self.metadata.set_index(movie_ids)\n",
    "            \n",
    "            my_column = []\n",
    "            for i in range(0,len(self.metadata['movieId'])):\n",
    "                my_column.append(i)\n",
    "            self.metadata = self.metadata.assign(index = my_column)\n",
    "            \n",
    "            \n",
    "    def calculate_cosine_similarity(self):\n",
    "        #Define a TF-IDF Vectorizer Object. Remove all english stop words such as 'the', 'a'\n",
    "        tfidf = TfidfVectorizer(stop_words='english')\n",
    "        \n",
    "        #Replace NaN with an empty string\n",
    "        self.metadata['title'] = self.metadata['title'].fillna('')\n",
    "        self.metadata['genres'] = self.metadata['genres'].fillna('')\n",
    "        \n",
    "        #Construct the required TF-IDF matrix by fitting and transforming the data\n",
    "        tfidf_matrix_title = tfidf.fit_transform(self.metadata['title'])\n",
    "        tfidf_matrix_genres = tfidf.fit_transform(self.metadata['genres'])\n",
    "        \n",
    "        # # Compute the cosine similarity matrix\n",
    "        # cosine_sim_l = linear_kernel(tfidf_matrix, tfidf_matrix)\n",
    "        self.cosine_sim_title = cosine_similarity(tfidf_matrix_title, tfidf_matrix_title)\n",
    "        self.cosine_sim_genres = cosine_similarity(tfidf_matrix_genres, tfidf_matrix_genres)\n",
    "        \n",
    "        \n",
    "    def get_pairwsie_similarity(self, movieIndex):\n",
    "        # Get the pairwsie similarity scores of all movies with that movie\n",
    "        sim_scores_title = list(enumerate(self.cosine_sim_title[movieIndex]))\n",
    "        sim_scores_genres = list(enumerate(self.cosine_sim_genres[movieIndex]))\n",
    "        \n",
    "        total_sim_score = []\n",
    "\n",
    "        for i in range(len(sim_scores_title)):\n",
    "            aux = (sim_scores_title[i][1]*0.5) + (sim_scores_genres[i][1]*0.5)\n",
    "            total_sim_score.append((i, aux))\n",
    "            \n",
    "        distance_score = []\n",
    "\n",
    "        for i in range(len(total_sim_score)):\n",
    "            aux = 1 - total_sim_score[i][1]\n",
    "            distance_score.append((i, aux))\n",
    "            \n",
    "        return distance_score\n",
    "    \n",
    "    \n",
    "    def get_distance_x_y(self, movieIdX, movieIdY):\n",
    "        distances = self.get_pairwsie_similarity(movieIndex=self.metadata.loc[movieIdX]['index'])\n",
    "        distance_x_y = distances[self.metadata.loc[movieIdY]['index']]\n",
    "        \n",
    "        return distance_x_y[1]\n",
    "    \n",
    "    \n",
    "    def get_list_diversity(self, my_list):\n",
    "        '''Function based on the article: Diversity, Serendipity, Novelty, and Coverage: A Survey and Empirical\n",
    "        Analysis of Beyond-Accuracy Objectives in Recommender Systems by MARIUS KAMINSKAS and DEREK BRIDGE'''\n",
    "        distance_sum = 0\n",
    "        for i in my_list:\n",
    "            for j in my_list:\n",
    "                if i != j:\n",
    "                    distance_sum = distance_sum + self.get_distance_x_y(movieIdX=i[0], movieIdY=j[0])\n",
    "                    \n",
    "        divisor = len(my_list) * (len(my_list) - 1)\n",
    "        \n",
    "        diversity = distance_sum/divisor\n",
    "        \n",
    "        return diversity"
   ]
  },
  {
   "cell_type": "code",
   "execution_count": 31,
   "metadata": {},
   "outputs": [
    {
     "data": {
      "text/html": [
       "<div>\n",
       "<style scoped>\n",
       "    .dataframe tbody tr th:only-of-type {\n",
       "        vertical-align: middle;\n",
       "    }\n",
       "\n",
       "    .dataframe tbody tr th {\n",
       "        vertical-align: top;\n",
       "    }\n",
       "\n",
       "    .dataframe thead th {\n",
       "        text-align: right;\n",
       "    }\n",
       "</style>\n",
       "<table border=\"1\" class=\"dataframe\">\n",
       "  <thead>\n",
       "    <tr style=\"text-align: right;\">\n",
       "      <th></th>\n",
       "      <th>movieId</th>\n",
       "      <th>title</th>\n",
       "      <th>genres</th>\n",
       "      <th>year</th>\n",
       "      <th>index</th>\n",
       "    </tr>\n",
       "  </thead>\n",
       "  <tbody>\n",
       "    <tr>\n",
       "      <th>193581</th>\n",
       "      <td>193581</td>\n",
       "      <td>Black Butler: Book of the Atlantic</td>\n",
       "      <td>Action, Animation, Comedy, Fantasy</td>\n",
       "      <td>2017</td>\n",
       "      <td>9737</td>\n",
       "    </tr>\n",
       "    <tr>\n",
       "      <th>193583</th>\n",
       "      <td>193583</td>\n",
       "      <td>No Game No Life: Zero</td>\n",
       "      <td>Animation, Comedy, Fantasy</td>\n",
       "      <td>2017</td>\n",
       "      <td>9738</td>\n",
       "    </tr>\n",
       "    <tr>\n",
       "      <th>193585</th>\n",
       "      <td>193585</td>\n",
       "      <td>Flint</td>\n",
       "      <td>Drama</td>\n",
       "      <td>2017</td>\n",
       "      <td>9739</td>\n",
       "    </tr>\n",
       "    <tr>\n",
       "      <th>193587</th>\n",
       "      <td>193587</td>\n",
       "      <td>Bungo Stray Dogs: Dead Apple</td>\n",
       "      <td>Action, Animation</td>\n",
       "      <td>2018</td>\n",
       "      <td>9740</td>\n",
       "    </tr>\n",
       "    <tr>\n",
       "      <th>193609</th>\n",
       "      <td>193609</td>\n",
       "      <td>Andrew Dice Clay: Dice Rules</td>\n",
       "      <td>Comedy</td>\n",
       "      <td>1991</td>\n",
       "      <td>9741</td>\n",
       "    </tr>\n",
       "  </tbody>\n",
       "</table>\n",
       "</div>"
      ],
      "text/plain": [
       "        movieId                               title  \\\n",
       "193581   193581  Black Butler: Book of the Atlantic   \n",
       "193583   193583               No Game No Life: Zero   \n",
       "193585   193585                               Flint   \n",
       "193587   193587        Bungo Stray Dogs: Dead Apple   \n",
       "193609   193609        Andrew Dice Clay: Dice Rules   \n",
       "\n",
       "                                    genres  year  index  \n",
       "193581  Action, Animation, Comedy, Fantasy  2017   9737  \n",
       "193583          Animation, Comedy, Fantasy  2017   9738  \n",
       "193585                               Drama  2017   9739  \n",
       "193587                   Action, Animation  2018   9740  \n",
       "193609                              Comedy  1991   9741  "
      ]
     },
     "execution_count": 31,
     "metadata": {},
     "output_type": "execute_result"
    }
   ],
   "source": [
    "divClass = DivClass(movie_data='ml-latest-small/movies.csv')\n",
    "divClass.metadata.tail()"
   ]
  },
  {
   "cell_type": "code",
   "execution_count": 32,
   "metadata": {},
   "outputs": [],
   "source": [
    "divClass.calculate_cosine_similarity()"
   ]
  },
  {
   "cell_type": "code",
   "execution_count": 33,
   "metadata": {},
   "outputs": [
    {
     "data": {
      "text/plain": [
       "[(0, 0.0),\n",
       " (1, 0.5932111296099281),\n",
       " (2, 0.9236153788938614),\n",
       " (3, 0.9324323488573905),\n",
       " (4, 0.8662067615542999),\n",
       " (5, 1.0),\n",
       " (6, 0.9236153788938614),\n",
       " (7, 0.6726510797561449),\n",
       " (8, 1.0),\n",
       " (9, 0.8687933010966684)]"
      ]
     },
     "execution_count": 33,
     "metadata": {},
     "output_type": "execute_result"
    }
   ],
   "source": [
    "distances = divClass.get_pairwsie_similarity(movieIndex=0)\n",
    "distances[0:10]"
   ]
  },
  {
   "cell_type": "code",
   "execution_count": 34,
   "metadata": {},
   "outputs": [
    {
     "data": {
      "text/plain": [
       "0.9236153788938614"
      ]
     },
     "execution_count": 34,
     "metadata": {},
     "output_type": "execute_result"
    }
   ],
   "source": [
    "dist_1_3 = divClass.get_distance_x_y(movieIdX=1, movieIdY=3)\n",
    "dist_1_3"
   ]
  },
  {
   "cell_type": "code",
   "execution_count": 35,
   "metadata": {},
   "outputs": [
    {
     "data": {
      "text/plain": [
       "[(131724, 5),\n",
       " (5746, 5),\n",
       " (6835, 5),\n",
       " (8804, 5),\n",
       " (26350, 5),\n",
       " (31522, 5),\n",
       " (1140, 5),\n",
       " (99636, 5),\n",
       " (2969, 5),\n",
       " (141718, 5)]"
      ]
     },
     "execution_count": 35,
     "metadata": {},
     "output_type": "execute_result"
    }
   ],
   "source": [
    "my_list = [(131724, 5), (5746, 5), (6835, 5), (8804, 5), (26350, 5), (31522, 5), (1140, 5), (99636, 5), (2969, 5), (141718, 5)]\n",
    "my_list"
   ]
  },
  {
   "cell_type": "code",
   "execution_count": 40,
   "metadata": {},
   "outputs": [],
   "source": [
    "# distance_sum = 0\n",
    "\n",
    "# for i in my_list:\n",
    "#     for j in my_list:\n",
    "#         if i != j:\n",
    "#             distance_sum = distance_sum + divClass.get_distance_x_y(movieIdX=i[0], movieIdY=j[0])\n",
    "\n",
    "# distance_sum"
   ]
  },
  {
   "cell_type": "code",
   "execution_count": 41,
   "metadata": {},
   "outputs": [],
   "source": [
    "# divisor = len(my_list) * (len(my_list) - 1)\n",
    "# divisor"
   ]
  },
  {
   "cell_type": "code",
   "execution_count": 42,
   "metadata": {},
   "outputs": [],
   "source": [
    "# total = distance_sum/divisor\n",
    "# total"
   ]
  },
  {
   "cell_type": "code",
   "execution_count": 39,
   "metadata": {},
   "outputs": [
    {
     "name": "stdout",
     "output_type": "stream",
     "text": [
      "0.8487959406942316\n"
     ]
    }
   ],
   "source": [
    "print(divClass.get_list_diversity(my_list=my_list))"
   ]
  },
  {
   "cell_type": "code",
   "execution_count": null,
   "metadata": {},
   "outputs": [],
   "source": []
  },
  {
   "cell_type": "code",
   "execution_count": null,
   "metadata": {},
   "outputs": [],
   "source": []
  },
  {
   "cell_type": "code",
   "execution_count": null,
   "metadata": {},
   "outputs": [],
   "source": []
  }
 ],
 "metadata": {
  "kernelspec": {
   "display_name": "Python 3",
   "language": "python",
   "name": "python3"
  },
  "language_info": {
   "codemirror_mode": {
    "name": "ipython",
    "version": 3
   },
   "file_extension": ".py",
   "mimetype": "text/x-python",
   "name": "python",
   "nbconvert_exporter": "python",
   "pygments_lexer": "ipython3",
   "version": "3.6.7"
  }
 },
 "nbformat": 4,
 "nbformat_minor": 2
}
